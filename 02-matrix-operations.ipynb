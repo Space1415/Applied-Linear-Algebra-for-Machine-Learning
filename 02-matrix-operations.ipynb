import numpy as np
from scripts.matrix_operations import multiply_matrices, determinant

A = np.array([[1, 2], [3, 4]])
B = np.array([[2, 0], [1, 2]])

result = multiply_matrices(A, B)
print("Matrix Multiplication:\n", result)

det_A = determinant(A)
print("Determinant of A:", det_A)
