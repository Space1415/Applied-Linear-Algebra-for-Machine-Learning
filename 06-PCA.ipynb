import numpy as np
import pandas as pd
import matplotlib.pyplot as plt
from scripts.pca import compute_pca

# Sample data
from sklearn.datasets import load_iris
data = load_iris()
X = data.data[:, :2]  # Just take first 2 features for clarity

reduced_data = compute_pca(X)

plt.scatter(reduced_data[:, 0], reduced_data[:, 1], c=data.target)
plt.xlabel('Principal Component 1')
plt.ylabel('Principal Component 2')
plt.title('PCA of Iris Dataset')
plt.show()
