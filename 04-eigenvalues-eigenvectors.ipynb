import numpy as np
from scripts.decomposition import compute_eigenvalues_and_vectors

A = np.array([[4, -2], [1, 1]])

eigenvalues, eigenvectors = compute_eigenvalues_and_vectors(A)

print("Eigenvalues:", eigenvalues)
print("Eigenvectors:\n", eigenvectors)
