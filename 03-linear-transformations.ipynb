import numpy as np
import matplotlib.pyplot as plt

def plot_transformation(matrix, vectors):
    fig, ax = plt.subplots()
    for vector in vectors:
        transformed_vector = matrix @ vector
        ax.quiver(0, 0, vector[0], vector[1], angles='xy', scale_units='xy', scale=1, color='gray', linestyle='dotted')
        ax.quiver(0, 0, transformed_vector[0], transformed_vector[1], angles='xy', scale_units='xy', scale=1, color='blue')

    ax.set_xlim(-5, 5)
    ax.set_ylim(-5, 5)
    ax.axhline(0, color='black',linewidth=0.5)
    ax.axvline(0, color='black',linewidth=0.5)
    ax.grid()
    plt.show()

matrix = np.array([[2, 0], [0, 1]])
vectors = [np.array([1, 2]), np.array([2, 1])]

plot_transformation(matrix, vectors)
