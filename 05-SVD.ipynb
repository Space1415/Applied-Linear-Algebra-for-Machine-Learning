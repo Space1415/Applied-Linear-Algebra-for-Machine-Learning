import numpy as np
from scripts.decomposition import compute_svd

A = np.array([[3, 1, 1], [-1, 3, 1]])

U, S, VT = compute_svd(A)

print("U:\n", U)
print("Singular values:", S)
print("V Transposed:\n", VT)
