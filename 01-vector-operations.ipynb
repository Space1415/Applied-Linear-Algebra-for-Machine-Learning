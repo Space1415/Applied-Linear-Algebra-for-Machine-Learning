import numpy as np
import matplotlib.pyplot as plt
from scripts.vector_operations import add_vectors, scalar_multiply

v1 = np.array([2, 3])
v2 = np.array([4, 1])

result = add_vectors(v1, v2)
print("Vector Addition:", result)

# Visualization
plt.quiver(0, 0, v1[0], v1[1], angles='xy', scale_units='xy', scale=1, color='r', label='v1')
plt.quiver(0, 0, v2[0], v2[1], angles='xy', scale_units='xy', scale=1, color='b', label='v2')
plt.quiver(0, 0, result[0], result[1], angles='xy', scale_units='xy', scale=1, color='g', label='v1+v2')
plt.legend()
plt.xlim(0, 10)
plt.ylim(0, 10)
plt.grid()
plt.show()
