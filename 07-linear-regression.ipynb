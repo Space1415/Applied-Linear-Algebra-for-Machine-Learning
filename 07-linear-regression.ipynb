import numpy as np
import matplotlib.pyplot as plt
from scripts.regression import linear_regression_normal_equation, predict

# Generate data
np.random.seed(0)
X = 2 * np.random.rand(100, 1)
y = 4 + 3 * X + np.random.randn(100, 1)

# Train model
theta = linear_regression_normal_equation(X, y)
print("Theta (parameters):", theta.ravel())

# Predictions
X_new = np.array([[0], [2]])
y_predict = predict(X_new, theta)

# Visualization
plt.plot(X_new, y_predict, "r-", label="Prediction")
plt.scatter(X, y, label="Data")
plt.xlabel("X")
plt.ylabel("y")
plt.legend()
plt.show()
